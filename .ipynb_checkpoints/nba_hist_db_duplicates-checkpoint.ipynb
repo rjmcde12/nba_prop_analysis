{
 "cells": [
  {
   "cell_type": "code",
   "execution_count": 1,
   "id": "6a657758-4424-4366-bd49-4faa314f13b0",
   "metadata": {
    "lines_to_next_cell": 2
   },
   "outputs": [],
   "source": [
    "import pandas as pd\n",
    "import pymongo                                                  \n",
    "from bson.objectid import ObjectId\n",
    "from dotenv import load_dotenv\n",
    "from pymongo import MongoClient\n",
    "import os\n",
    "import pprint"
   ]
  },
  {
   "cell_type": "code",
   "execution_count": 2,
   "id": "13968298-46aa-40ae-a934-1ae7c6553d0e",
   "metadata": {},
   "outputs": [
    {
     "name": "stdout",
     "output_type": "stream",
     "text": [
      "163237\n"
     ]
    }
   ],
   "source": [
    "# Connect to your MongoDB database\n",
    "load_dotenv()\n",
    "uri = os.getenv('URI')\n",
    "client = pymongo.MongoClient(uri)\n",
    "db = client['nba_stats']\n",
    "hist_player_stats = db['hist_player_logs']\n",
    "\n",
    "# creating pandas df for players stats\n",
    "hist_player_stats = db['hist_player_logs']\n",
    "player_cursor = hist_player_stats.find()\n",
    "hist_players_df = pd.DataFrame(list(player_cursor))\n",
    "# all_players_df = all_players_df.drop(columns='_id')\n",
    "print(len(hist_players_df))\n"
   ]
  },
  {
   "cell_type": "code",
   "execution_count": 11,
   "id": "fd442811-3db3-48ce-a647-2aea2f066706",
   "metadata": {
    "scrolled": true
   },
   "outputs": [
    {
     "name": "stdout",
     "output_type": "stream",
     "text": [
      "0\n",
      "[]\n"
     ]
    }
   ],
   "source": [
    "# Assuming player_stats is your MongoDB collection object\n",
    "pipeline = [\n",
    "    {\"$group\": {\"_id\": {\"unique_id\":\"$unique_id\", \"season_id\":\"$season_id\",\"game_date\": \"$game_date\", \"player_id\": \"$player_id\", \"min\": \"$min\", \"pts\": \"$pts\", \"reb\": \"$reb\", \"ast\": \"$ast\", \n",
    "                        \"stl\": \"$stl\", \"blk\": \"$blk\", \"player_game_no\": \"$player_game_no\"}, \"unique_ids\": {\"$addToSet\": \"$_id\"}, \"count\": {\"$sum\": 1}}},\n",
    "    {\"$match\": {\"count\": {\"$gt\": 1}}}\n",
    "]\n",
    "\n",
    "# Find duplicate documents\n",
    "duplicate_docs = list(hist_player_stats.aggregate(pipeline)) #use the mongo db/collection variable not the df\n",
    "print(len(duplicate_docs))\n",
    "pprint.pprint(duplicate_docs)\n",
    "\n",
    "# sort duplicate documents\n",
    "# duplicate_docs = sorted(duplicate_docs, key=lambda x: x['_id']['player_id'])\n",
    "# duplicate_docs = sorted(duplicate_docs, key=lambda x: x['_id']['game_date'])\n",
    "\n",
    "\n"
   ]
  },
  {
   "cell_type": "code",
   "execution_count": null,
   "id": "99e8f6f2-ac43-4336-8bf9-cca3cc449f23",
   "metadata": {},
   "outputs": [],
   "source": [
    "# Delete duplicate documents except for the first occurrence\n",
    "for index, doc in enumerate(duplicate_docs):\n",
    "    unique_ids = doc[\"unique_ids\"]\n",
    "    del unique_ids[0]  # Keep the first occurrence, delete the rest\n",
    "    hist_players_df.delete_many({\"_id\": {\"$in\": unique_ids}})\n",
    "    # print(index)"
   ]
  }
 ],
 "metadata": {
  "kernelspec": {
   "display_name": "Python 3 (ipykernel)",
   "language": "python",
   "name": "python3"
  },
  "language_info": {
   "codemirror_mode": {
    "name": "ipython",
    "version": 3
   },
   "file_extension": ".py",
   "mimetype": "text/x-python",
   "name": "python",
   "nbconvert_exporter": "python",
   "pygments_lexer": "ipython3",
   "version": "3.11.5"
  }
 },
 "nbformat": 4,
 "nbformat_minor": 5
}
