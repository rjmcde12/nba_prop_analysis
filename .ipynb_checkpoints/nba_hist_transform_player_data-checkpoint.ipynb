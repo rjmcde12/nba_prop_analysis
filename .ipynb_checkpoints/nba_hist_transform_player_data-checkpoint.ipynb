{
 "cells": [
  {
   "cell_type": "code",
   "execution_count": 1,
   "id": "4d1b49b7-33e8-4a49-aaad-fd12c25d4886",
   "metadata": {},
   "outputs": [],
   "source": [
    "import pandas as pd\n",
    "import numpy as np\n",
    "import pymongo                                                  \n",
    "from dotenv import load_dotenv\n",
    "import os\n",
    "import time\n",
    "from datetime import datetime\n",
    "import nba_api_functions_hist as hist\n",
    "import nba_prop_functions_hist as prop_hist\n",
    "import random\n",
    "import uuid\n"
   ]
  },
  {
   "cell_type": "code",
   "execution_count": 2,
   "id": "1369600d-15c3-48c2-983d-8d933040f03b",
   "metadata": {},
   "outputs": [],
   "source": [
    "def fetch_data_from_database():\n",
    "    # connecting to mongodb\n",
    "    load_dotenv()\n",
    "    uri = os.getenv('URI')\n",
    "    client = pymongo.MongoClient(uri)\n",
    "    db = client['nba_stats']\n",
    "    \n",
    "    # creating pandas df for historical players logs\n",
    "    hist_player_stats = db['hist_player_logs']\n",
    "    player_cursor = hist_player_stats.find()\n",
    "    hist_player_stats_df = pd.DataFrame(list(player_cursor))\n",
    "    hist_player_stats_df = hist_player_stats_df.drop(columns='_id')\n",
    "\n",
    "    return hist_player_stats_df\n",
    "\n",
    "hist_df = fetch_data_from_database()"
   ]
  },
  {
   "cell_type": "code",
   "execution_count": 5,
   "id": "a1e2e217-bbd0-4fed-9d48-ca87f32caf10",
   "metadata": {},
   "outputs": [],
   "source": [
    "# filtering out only what we need and changing the names to match\n",
    "hist_df = hist_df[['SEASON_ID','GAME_DATE','Player_ID','MIN','PTS','REB','AST','STL','BLK','FG3M']]\n",
    "hist_df.rename(columns={'SEASON_ID':'season_id','GAME_DATE':'game_date','Player_ID':'player_id', 'MIN':'min', \n",
    "                        'PTS':'pts','REB':'reb','AST':'ast','STL':'stl','BLK':'blk', 'FG3M':'fg3m'}, inplace=True)\n",
    "\n",
    "# updating game_date to something sortable\n",
    "# ******* not sure if we need to flip it back at somepoint\n",
    "hist_df['game_date'] = pd.to_datetime(hist_df['game_date'], format='%b %d, %Y')\n",
    "# # ***** returns it back to a more readable format ********\n",
    "# hist_df['game_date'] = hist_df['game_date'].dt.strftime('%b %d, %Y')\n",
    "\n",
    "# sorting by playerid, seasonid, gamedate\n",
    "hist_df = hist_df.sort_values(by=['player_id', 'season_id', 'game_date'], ascending=True).reset_index(drop=True)\n",
    "\n",
    "# grouping by playerid and seasonid to add player_game_no\n",
    "hist_df['player_game_no'] = hist_df.groupby(['season_id', 'player_id']).cumcount() + 1\n",
    "\n",
    "# adding unique id to each row\n",
    "hist_df['unique_id'] = hist_df.index.map(lambda _:uuid.uuid4())"
   ]
  },
  {
   "cell_type": "code",
   "execution_count": 6,
   "id": "4947697b-2d0e-4419-967b-d0b38739f723",
   "metadata": {},
   "outputs": [],
   "source": [
    "# ******** NEED TO UPDATE THIS TO A ROLLING IN SEASON AVERAGE ********\n",
    "hist_df['min_season_avg'] = hist_df.groupby(['season_id', 'player_id'])['min'].transform('mean')\n",
    "hist_df['pts_season_avg'] = hist_df.groupby(['season_id', 'player_id'])['pts'].transform('mean')\n",
    "hist_df['reb_season_avg'] = hist_df.groupby(['season_id', 'player_id'])['reb'].transform('mean')\n",
    "hist_df['ast_season_avg'] = hist_df.groupby(['season_id', 'player_id'])['ast'].transform('mean')\n",
    "hist_df['stl_season_avg'] = hist_df.groupby(['season_id', 'player_id'])['stl'].transform('mean')\n",
    "hist_df['blk_season_avg'] = hist_df.groupby(['season_id', 'player_id'])['blk'].transform('mean')\n",
    "hist_df['fg3m_season_avg'] = hist_df.groupby(['season_id', 'player_id'])['fg3m'].transform('mean')"
   ]
  },
  {
   "cell_type": "code",
   "execution_count": 119,
   "id": "e6555ed9-fbe5-482f-a051-5c3b2a71ac60",
   "metadata": {},
   "outputs": [
    {
     "data": {
      "text/plain": [
       "200.85259246826172"
      ]
     },
     "execution_count": 119,
     "metadata": {},
     "output_type": "execute_result"
    }
   ],
   "source": [
    "memory_usage = pts_results_df.memory_usage(deep=True).sum()\n",
    "memory_usage = memory_usage / (1024**2)\n",
    "memory_usage"
   ]
  }
 ],
 "metadata": {
  "jupytext": {
   "formats": "ipynb,py:light"
  },
  "kernelspec": {
   "display_name": "Python 3 (ipykernel)",
   "language": "python",
   "name": "python3"
  },
  "language_info": {
   "codemirror_mode": {
    "name": "ipython",
    "version": 3
   },
   "file_extension": ".py",
   "mimetype": "text/x-python",
   "name": "python",
   "nbconvert_exporter": "python",
   "pygments_lexer": "ipython3",
   "version": "3.11.5"
  }
 },
 "nbformat": 4,
 "nbformat_minor": 5
}
