{
 "cells": [
  {
   "cell_type": "code",
   "execution_count": 1,
   "id": "4c687afd-d53b-49d8-bef7-6226ef22455e",
   "metadata": {},
   "outputs": [],
   "source": [
    "import pandas as pd\n",
    "import numpy as np\n",
    "import nba_api\n",
    "from nba_api.stats.static import players\n",
    "from nba_api.stats.static import teams\n",
    "from nba_api.stats.endpoints import commonteamroster as rosters\n",
    "from nba_api.stats.endpoints import playergamelog\n",
    "from nba_api.stats.endpoints import playbyplayv2 as pbp\n",
    "from nba_api.stats.endpoints import commonallplayers\n",
    "from nba_api.stats.endpoints import teamgamelog\n",
    "from nba_api.stats.endpoints import winprobabilitypbp as winprob\n",
    "from nba_api.stats.endpoints import BoxScoreAdvancedV3 as box\n",
    "import time\n",
    "from datetime import datetime"
   ]
  },
  {
   "cell_type": "code",
   "execution_count": null,
   "id": "3b51af37-ed3e-4566-a322-efff5151d78e",
   "metadata": {},
   "outputs": [],
   "source": [
    "# CommonAllPlayers - TO_YEAR is the best measure. means they have at some point played in a game this year.\n",
    "# players.get_active_players - this is players currently on an active roster. \n",
    "    # can show up on this list and not the above (based on this year TO YEAR) if on roster but have not appeared in a game yet\n",
    "\n"
   ]
  },
  {
   "cell_type": "code",
   "execution_count": null,
   "id": "e4953d98-bdce-4851-a3b0-6c24f10b75cd",
   "metadata": {},
   "outputs": [],
   "source": [
    "current_rosters_df = rosters.CommonTeamRoster(1610612749, 2018).get_data_frames()[0]\n",
    "# current_rosters_df = pd.DataFrame(current_rosters_obj.get_data_frames()[0])\n",
    "# current_rosters_df"
   ]
  },
  {
   "cell_type": "code",
   "execution_count": 5,
   "id": "8476ebf2-2a52-4017-9915-d54fc1f4383c",
   "metadata": {},
   "outputs": [],
   "source": [
    "# returns full list of all players who played in the nba\n",
    "# ROSTERSTATUS = 1 seems to be is_active\n",
    "all_players = commonallplayers.CommonAllPlayers().get_data_frames()[0]\n",
    "all_players['TO_YEAR'] = all_players['TO_YEAR'].apply(lambda x: int(x))\n",
    "hist_players = all_players[all_players['TO_YEAR']>= 2016]"
   ]
  },
  {
   "cell_type": "code",
   "execution_count": 6,
   "id": "e94961df-0939-499d-b9d8-20c892c3cd64",
   "metadata": {},
   "outputs": [],
   "source": [
    "hist_players = hist_players[['PERSON_ID', 'DISPLAY_FIRST_LAST', 'TO_YEAR']]\n",
    "hist_players.loc[:, 'total_seasons'] = hist_players['TO_YEAR'] - 2015"
   ]
  },
  {
   "cell_type": "code",
   "execution_count": 8,
   "id": "8802a553-1918-48ec-8c80-5a020e11183a",
   "metadata": {},
   "outputs": [
    {
     "data": {
      "text/plain": [
       "1281"
      ]
     },
     "execution_count": 8,
     "metadata": {},
     "output_type": "execute_result"
    }
   ],
   "source": [
    "hist_players.loc[:,'seasons_played'] = hist_players['total_seasons'].apply(lambda x: [year for season in range(2016, 2016 + x) for year in [season]])\n",
    "\n",
    "id_season_df = hist_players[['PERSON_ID','seasons_played']]\n",
    "len(id_season_df)"
   ]
  },
  {
   "cell_type": "code",
   "execution_count": 10,
   "id": "a0fc7db0-a2c9-4994-aa13-24facc997f52",
   "metadata": {},
   "outputs": [],
   "source": [
    "id_season_pair_list = []\n",
    "for index, row in id_season_df.iterrows():\n",
    "    player_id = row['PERSON_ID']\n",
    "    seasons_played = row['seasons_played']\n",
    "    player_entry = {'PERSON_ID': player_id, 'seasons_played': seasons_played}\n",
    "    id_season_pair_list.append(player_entry)"
   ]
  },
  {
   "cell_type": "code",
   "execution_count": null,
   "id": "6133e84e-1100-4b5b-9993-a26518a718e2",
   "metadata": {},
   "outputs": [],
   "source": [
    "id_season_pairs = []\n",
    "\n",
    "for pair in id_season_pair_list:\n",
    "    player_id = pair['PERSON_ID']\n",
    "    player_pairs = [{'player_id': player_id, 'season_year': season} for season in pair['seasons_played']]\n",
    "    id_season_pairs.extend(player_pairs)\n",
    "\n",
    "all_ids_all_years = pd.DataFrame(id_season_pairs)"
   ]
  },
  {
   "cell_type": "code",
   "execution_count": null,
   "id": "59918995-5e63-44f7-ae0e-61456d3aecea",
   "metadata": {},
   "outputs": [],
   "source": [
    "test_df = all_ids_all_years[all_ids_all_years['season_year']>=2016]\n",
    "test = test_df[:2]"
   ]
  },
  {
   "cell_type": "code",
   "execution_count": null,
   "id": "c800ef9b-cae5-4b47-a468-21149444ff8f",
   "metadata": {},
   "outputs": [],
   "source": [
    "\n",
    "\n",
    "\n",
    "\n",
    "games_2022 = all_ids_all_years[all_ids_all_years['season_year']==2022]\n",
    "\n"
   ]
  },
  {
   "cell_type": "code",
   "execution_count": null,
   "id": "714e3090-fd5a-460b-85d8-ef0883b7f874",
   "metadata": {
    "scrolled": true
   },
   "outputs": [],
   "source": [
    "gamelog_df_list = []\n",
    "start_time = time.time()\n",
    "formatted_start = time.strftime('%Y-%m-%d %H:%M:%S', time.localtime(start_time))\n",
    "for index, row in test.iterrows():\n",
    "    player_id = row['player_id'] \n",
    "    season = row['season_year']\n",
    "    player_gamelog = playergamelog.PlayerGameLog(player_id, season)\n",
    "    player_gamelog_df = player_gamelog.get_data_frames()[0]\n",
    "    print(player_id, season)\n",
    "    gamelog_df_list.append(player_gamelog_df)\n",
    "    time.sleep(.1)\n",
    "\n",
    "player_gamelogs_df = pd.concat(gamelog_df_list, ignore_index=True)\n",
    "# player_gamelogs_df.to_csv(f'player_gamelogs_{str(season)}.csv', index=False)\n",
    "\n",
    "end_time = time.time()\n",
    "duration = round((end_time - start_time)/60, 2)\n",
    "formatted_end = time.strftime('%Y-%m-%d %H:%M:%S', time.localtime(end_time))\n",
    "print(formatted_start)\n",
    "print(formatted_end)\n",
    "print(str(duration) + ' minutes')\n",
    "print(f'{str(season)} is complete. {len(player_gamelogs_df)} total player gamelogs')\n",
    "\n",
    "player_gamelogs_df"
   ]
  }
 ],
 "metadata": {
  "kernelspec": {
   "display_name": "Python 3 (ipykernel)",
   "language": "python",
   "name": "python3"
  },
  "language_info": {
   "codemirror_mode": {
    "name": "ipython",
    "version": 3
   },
   "file_extension": ".py",
   "mimetype": "text/x-python",
   "name": "python",
   "nbconvert_exporter": "python",
   "pygments_lexer": "ipython3",
   "version": "3.11.5"
  }
 },
 "nbformat": 4,
 "nbformat_minor": 5
}
