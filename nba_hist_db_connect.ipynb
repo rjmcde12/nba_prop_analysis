{
 "cells": [
  {
   "cell_type": "code",
   "execution_count": 1,
   "id": "a1b5bf41-00b5-4969-b281-92369b0ac5a8",
   "metadata": {},
   "outputs": [],
   "source": [
    "import pandas as pd\n",
    "import numpy as np\n",
    "import pymongo                                                  \n",
    "from dotenv import load_dotenv\n",
    "import os\n",
    "import time\n",
    "from datetime import datetime\n",
    "import nba_api_functions_hist as hist\n",
    "import nba_prop_functions_hist as prop_hist\n",
    "\n",
    "\n",
    "def fetch_data_from_database():\n",
    "    # connecting to mongodb\n",
    "    load_dotenv()\n",
    "    uri = os.getenv('URI')\n",
    "    client = pymongo.MongoClient(uri)\n",
    "    db = client['nba_stats']\n",
    "    \n",
    "    # creating pandas df for historical players logs\n",
    "    hist_player_stats = db['hist_player_logs']\n",
    "    player_cursor = hist_player_stats.find()\n",
    "    hist_player_stats_df = pd.DataFrame(list(player_cursor))\n",
    "    hist_player_stats_df = hist_player_stats_df.drop(columns='_id')\n",
    "\n",
    "    return hist_player_stats_df\n",
    "\n",
    "hist_player_stats_df = fetch_data_from_database()"
   ]
  }
 ],
 "metadata": {
  "kernelspec": {
   "display_name": "Python 3 (ipykernel)",
   "language": "python",
   "name": "python3"
  },
  "language_info": {
   "codemirror_mode": {
    "name": "ipython",
    "version": 3
   },
   "file_extension": ".py",
   "mimetype": "text/x-python",
   "name": "python",
   "nbconvert_exporter": "python",
   "pygments_lexer": "ipython3",
   "version": "3.11.5"
  }
 },
 "nbformat": 4,
 "nbformat_minor": 5
}
